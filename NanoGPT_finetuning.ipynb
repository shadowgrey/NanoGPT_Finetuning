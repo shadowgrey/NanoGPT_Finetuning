{
  "cells": [
    {
      "cell_type": "markdown",
      "metadata": {
        "id": "PGxapT2cdu09"
      },
      "source": [
        "# Introduction\n",
        "we\u2019ll explore how to train a lightweight NanoGPT on the Tiny Stories dataset. NanoGPT, developed by Andrej Karpathy, is a simplified variant of GPT designed for simplicity and speed. Our goal is to generate creative and coherent text based on the input data."
      ]
    },
    {
      "cell_type": "markdown",
      "metadata": {
        "id": "6Rh4DSQOdu0-"
      },
      "source": [
        "# Import Libraries"
      ]
    },
    {
      "cell_type": "code",
      "execution_count": 1,
      "metadata": {
        "colab": {
          "base_uri": "https://localhost:8080/"
        },
        "execution": {
          "iopub.execute_input": "2024-06-20T15:36:54.88378Z",
          "iopub.status.busy": "2024-06-20T15:36:54.883342Z",
          "iopub.status.idle": "2024-06-20T15:37:07.278493Z",
          "shell.execute_reply": "2024-06-20T15:37:07.277342Z",
          "shell.execute_reply.started": "2024-06-20T15:36:54.883753Z"
        },
        "id": "VPr4tIjXdu0-",
        "outputId": "d43e0993-daeb-4add-867d-1803ff310942",
        "trusted": true
      },
      "outputs": [
        {
          "name": "stdout",
          "output_type": "stream",
          "text": [
            "Cloning into 'nanoGPT'...\n",
            "remote: Enumerating objects: 686, done.\u001b[K\n",
            "remote: Total 686 (delta 0), reused 0 (delta 0), pack-reused 686 (from 1)\u001b[K\n",
            "Receiving objects: 100% (686/686), 954.03 KiB | 18.71 MiB/s, done.\n",
            "Resolving deltas: 100% (387/387), done.\n",
            "Collecting tiktoken\n",
            "  Downloading tiktoken-0.9.0-cp311-cp311-manylinux_2_17_x86_64.manylinux2014_x86_64.whl.metadata (6.7 kB)\n",
            "Requirement already satisfied: regex>=2022.1.18 in /usr/local/lib/python3.11/dist-packages (from tiktoken) (2024.11.6)\n",
            "Requirement already satisfied: requests>=2.26.0 in /usr/local/lib/python3.11/dist-packages (from tiktoken) (2.32.3)\n",
            "Requirement already satisfied: charset-normalizer<4,>=2 in /usr/local/lib/python3.11/dist-packages (from requests>=2.26.0->tiktoken) (3.4.1)\n",
            "Requirement already satisfied: idna<4,>=2.5 in /usr/local/lib/python3.11/dist-packages (from requests>=2.26.0->tiktoken) (3.10)\n",
            "Requirement already satisfied: urllib3<3,>=1.21.1 in /usr/local/lib/python3.11/dist-packages (from requests>=2.26.0->tiktoken) (2.4.0)\n",
            "Requirement already satisfied: certifi>=2017.4.17 in /usr/local/lib/python3.11/dist-packages (from requests>=2.26.0->tiktoken) (2025.4.26)\n",
            "Downloading tiktoken-0.9.0-cp311-cp311-manylinux_2_17_x86_64.manylinux2014_x86_64.whl (1.2 MB)\n",
            "\u001b[2K   \u001b[90m\u2501\u2501\u2501\u2501\u2501\u2501\u2501\u2501\u2501\u2501\u2501\u2501\u2501\u2501\u2501\u2501\u2501\u2501\u2501\u2501\u2501\u2501\u2501\u2501\u2501\u2501\u2501\u2501\u2501\u2501\u2501\u2501\u2501\u2501\u2501\u2501\u2501\u2501\u2501\u2501\u001b[0m \u001b[32m1.2/1.2 MB\u001b[0m \u001b[31m18.8 MB/s\u001b[0m eta \u001b[36m0:00:00\u001b[0m\n",
            "\u001b[?25hInstalling collected packages: tiktoken\n",
            "Successfully installed tiktoken-0.9.0\n",
            "Requirement already satisfied: wandb in /usr/local/lib/python3.11/dist-packages (0.19.10)\n",
            "Requirement already satisfied: click!=8.0.0,>=7.1 in /usr/local/lib/python3.11/dist-packages (from wandb) (8.1.8)\n",
            "Requirement already satisfied: docker-pycreds>=0.4.0 in /usr/local/lib/python3.11/dist-packages (from wandb) (0.4.0)\n",
            "Requirement already satisfied: gitpython!=3.1.29,>=1.0.0 in /usr/local/lib/python3.11/dist-packages (from wandb) (3.1.44)\n",
            "Requirement already satisfied: platformdirs in /usr/local/lib/python3.11/dist-packages (from wandb) (4.3.7)\n",
            "Requirement already satisfied: protobuf!=4.21.0,!=5.28.0,<7,>=3.19.0 in /usr/local/lib/python3.11/dist-packages (from wandb) (5.29.4)\n",
            "Requirement already satisfied: psutil>=5.0.0 in /usr/local/lib/python3.11/dist-packages (from wandb) (5.9.5)\n",
            "Requirement already satisfied: pydantic<3 in /usr/local/lib/python3.11/dist-packages (from wandb) (2.11.3)\n",
            "Requirement already satisfied: pyyaml in /usr/local/lib/python3.11/dist-packages (from wandb) (6.0.2)\n",
            "Requirement already satisfied: requests<3,>=2.0.0 in /usr/local/lib/python3.11/dist-packages (from wandb) (2.32.3)\n",
            "Requirement already satisfied: sentry-sdk>=2.0.0 in /usr/local/lib/python3.11/dist-packages (from wandb) (2.27.0)\n",
            "Requirement already satisfied: setproctitle in /usr/local/lib/python3.11/dist-packages (from wandb) (1.3.6)\n",
            "Requirement already satisfied: setuptools in /usr/local/lib/python3.11/dist-packages (from wandb) (75.2.0)\n",
            "Requirement already satisfied: typing-extensions<5,>=4.4 in /usr/local/lib/python3.11/dist-packages (from wandb) (4.13.2)\n",
            "Requirement already satisfied: six>=1.4.0 in /usr/local/lib/python3.11/dist-packages (from docker-pycreds>=0.4.0->wandb) (1.17.0)\n",
            "Requirement already satisfied: gitdb<5,>=4.0.1 in /usr/local/lib/python3.11/dist-packages (from gitpython!=3.1.29,>=1.0.0->wandb) (4.0.12)\n",
            "Requirement already satisfied: annotated-types>=0.6.0 in /usr/local/lib/python3.11/dist-packages (from pydantic<3->wandb) (0.7.0)\n",
            "Requirement already satisfied: pydantic-core==2.33.1 in /usr/local/lib/python3.11/dist-packages (from pydantic<3->wandb) (2.33.1)\n",
            "Requirement already satisfied: typing-inspection>=0.4.0 in /usr/local/lib/python3.11/dist-packages (from pydantic<3->wandb) (0.4.0)\n",
            "Requirement already satisfied: charset-normalizer<4,>=2 in /usr/local/lib/python3.11/dist-packages (from requests<3,>=2.0.0->wandb) (3.4.1)\n",
            "Requirement already satisfied: idna<4,>=2.5 in /usr/local/lib/python3.11/dist-packages (from requests<3,>=2.0.0->wandb) (3.10)\n",
            "Requirement already satisfied: urllib3<3,>=1.21.1 in /usr/local/lib/python3.11/dist-packages (from requests<3,>=2.0.0->wandb) (2.4.0)\n",
            "Requirement already satisfied: certifi>=2017.4.17 in /usr/local/lib/python3.11/dist-packages (from requests<3,>=2.0.0->wandb) (2025.4.26)\n",
            "Requirement already satisfied: smmap<6,>=3.0.1 in /usr/local/lib/python3.11/dist-packages (from gitdb<5,>=4.0.1->gitpython!=3.1.29,>=1.0.0->wandb) (5.0.2)\n"
          ]
        }
      ],
      "source": [
        "# Clone the NanoGPT\n",
        "!git clone https://github.com/karpathy/nanoGPT.git\n",
        "!pip install tiktoken\n",
        "!pip install wandb"
      ]
    },
    {
      "cell_type": "code",
      "execution_count": 2,
      "metadata": {
        "execution": {
          "iopub.execute_input": "2024-06-20T15:35:48.582884Z",
          "iopub.status.busy": "2024-06-20T15:35:48.582534Z",
          "iopub.status.idle": "2024-06-20T15:35:51.155347Z",
          "shell.execute_reply": "2024-06-20T15:35:51.153808Z",
          "shell.execute_reply.started": "2024-06-20T15:35:48.582855Z"
        },
        "id": "KsKY7v1kdu0_",
        "trusted": true
      },
      "outputs": [],
      "source": [
        "import torch\n",
        "import torch.nn as nn\n",
        "import torch.nn.functional as F\n",
        "import numpy as np\n",
        "from tqdm.auto import tqdm\n",
        "from contextlib import nullcontext\n",
        "import nanoGPT.model as GPT\n",
        "import wandb\n",
        "import os"
      ]
    },
    {
      "cell_type": "code",
      "execution_count": null,
      "metadata": {
        "colab": {
          "base_uri": "https://localhost:8080/"
        },
        "execution": {
          "iopub.execute_input": "2024-06-19T23:15:22.99086Z",
          "iopub.status.busy": "2024-06-19T23:15:22.989777Z",
          "iopub.status.idle": "2024-06-19T23:15:23.083459Z",
          "shell.execute_reply": "2024-06-19T23:15:23.082657Z",
          "shell.execute_reply.started": "2024-06-19T23:15:22.990822Z"
        },
        "id": "GjrpvoD4du0_",
        "outputId": "3463c258-98ff-4919-a608-cae0aa241c30",
        "trusted": true
      },
      "outputs": [
        {
          "name": "stderr",
          "output_type": "stream",
          "text": [
            "\u001b[34m\u001b[1mwandb\u001b[0m: \u001b[33mWARNING\u001b[0m If you're specifying your api key in code, ensure this code is not shared publicly.\n",
            "\u001b[34m\u001b[1mwandb\u001b[0m: \u001b[33mWARNING\u001b[0m Consider setting the WANDB_API_KEY environment variable, or running `wandb login` from the command line.\n",
            "\u001b[34m\u001b[1mwandb\u001b[0m: No netrc file found, creating one.\n",
            "\u001b[34m\u001b[1mwandb\u001b[0m: Appending key for api.wandb.ai to your netrc file: /root/.netrc\n",
            "\u001b[34m\u001b[1mwandb\u001b[0m: Currently logged in as: \u001b[33-8\u001b[0m (\u001b[33-8-massachusetts-institute-of-technology\u001b[0m) to \u001b[32mhttps://api.wandb.ai\u001b[0m. Use \u001b[1m`wandb login --relogin`\u001b[0m to force relogin\n"
          ]
        },
        {
          "data": {
            "text/plain": [
              "True"
            ]
          },
          "execution_count": 3,
          "metadata": {},
          "output_type": "execute_result"
        }
      ],
      "source": [
        "# Directly set your API key (not secure in public notebooks)\n",
        "import wandb\n",
        "wandb.login(key=\"USE YOUR OWN kEY\")"
      ]
    },
    {
      "cell_type": "code",
      "execution_count": 4,
      "metadata": {
        "execution": {
          "iopub.execute_input": "2024-06-20T15:09:34.707716Z",
          "iopub.status.busy": "2024-06-20T15:09:34.707359Z",
          "iopub.status.idle": "2024-06-20T15:09:34.713942Z",
          "shell.execute_reply": "2024-06-20T15:09:34.712624Z",
          "shell.execute_reply.started": "2024-06-20T15:09:34.707684Z"
        },
        "id": "qjqvixGUdu0_",
        "trusted": true
      },
      "outputs": [],
      "source": [
        "class GPTConfig: # Model config from NanoGPT\n",
        "    block_size: int = 384\n",
        "    vocab_size: int = 50304 # GPT-2 vocab_size of 50257, padded up to nearest multiple of 64 for efficiency\n",
        "    n_layer: int = 8\n",
        "    n_head: int = 8\n",
        "    n_embd: int = 384\n",
        "    dropout: float = 0.0\n",
        "    bias: bool = True # True: bias in Linears and LayerNorms, like GPT-2. False: a bit better and faster\n",
        "\n",
        "config = GPTConfig"
      ]
    },
    {
      "cell_type": "code",
      "execution_count": 5,
      "metadata": {
        "colab": {
          "base_uri": "https://localhost:8080/"
        },
        "execution": {
          "iopub.execute_input": "2024-06-20T15:09:40.77845Z",
          "iopub.status.busy": "2024-06-20T15:09:40.778103Z",
          "iopub.status.idle": "2024-06-20T15:09:40.786668Z",
          "shell.execute_reply": "2024-06-20T15:09:40.785538Z",
          "shell.execute_reply.started": "2024-06-20T15:09:40.778427Z"
        },
        "id": "dfcmOzQ9du0_",
        "outputId": "44594ba3-56d9-40c0-a1f1-6b7d70596a4f",
        "trusted": true
      },
      "outputs": [
        {
          "data": {
            "text/plain": [
              "{'block_size': 384,\n",
              " 'vocab_size': 50304,\n",
              " 'n_layer': 8,\n",
              " 'n_head': 8,\n",
              " 'n_embd': 384,\n",
              " 'dropout': 0.0,\n",
              " 'bias': True}"
            ]
          },
          "execution_count": 5,
          "metadata": {},
          "output_type": "execute_result"
        }
      ],
      "source": [
        "wandb_config = {k:v for k,v in vars(config).items() if not callable(getattr(config, k)) and not k.startswith(\"__\")} # Creating Wandb hyperparameters config for tracking experiements\n",
        "wandb_config"
      ]
    },
    {
      "cell_type": "code",
      "execution_count": 6,
      "metadata": {
        "colab": {
          "base_uri": "https://localhost:8080/",
          "height": 125
        },
        "execution": {
          "iopub.execute_input": "2024-06-19T23:15:27.491113Z",
          "iopub.status.busy": "2024-06-19T23:15:27.490277Z",
          "iopub.status.idle": "2024-06-19T23:15:44.976202Z",
          "shell.execute_reply": "2024-06-19T23:15:44.974881Z",
          "shell.execute_reply.started": "2024-06-19T23:15:27.491079Z"
        },
        "id": "FsVaxNjCdu0_",
        "outputId": "66f4d760-714a-4320-d50f-6992f93df815",
        "trusted": true
      },
      "outputs": [
        {
          "data": {
            "text/html": [
              "Tracking run with wandb version 0.19.10"
            ],
            "text/plain": [
              "<IPython.core.display.HTML object>"
            ]
          },
          "metadata": {},
          "output_type": "display_data"
        },
        {
          "data": {
            "text/html": [
              "Run data is saved locally in <code>/content/wandb/run-20250504_130522-hlvxtchx</code>"
            ],
            "text/plain": [
              "<IPython.core.display.HTML object>"
            ]
          },
          "metadata": {},
          "output_type": "display_data"
        },
        {
          "data": {
            "text/html": [
              "Syncing run <strong><a href='https://wandb.ai-8-massachusetts-institute-of-technology/nanogpt-tinystories/runs/hlvxtchx' target=\"_blank\">nanoGPT</a></strong> to <a href='https://wandb.ai-8-massachusetts-institute-of-technology/nanogpt-tinystories' target=\"_blank\">Weights & Biases</a> (<a href='https://wandb.me/developer-guide' target=\"_blank\">docs</a>)<br>"
            ],
            "text/plain": [
              "<IPython.core.display.HTML object>"
            ]
          },
          "metadata": {},
          "output_type": "display_data"
        },
        {
          "data": {
            "text/html": [
              " View project at <a href='https://wandb.ai-8-massachusetts-institute-of-technology/nanogpt-tinystories' target=\"_blank\">https://wandb.ai-8-massachusetts-institute-of-technology/nanogpt-tinystories</a>"
            ],
            "text/plain": [
              "<IPython.core.display.HTML object>"
            ]
          },
          "metadata": {},
          "output_type": "display_data"
        },
        {
          "data": {
            "text/html": [
              " View run at <a href='https://wandb.ai-8-massachusetts-institute-of-technology/nanogpt-tinystories/runs/hlvxtchx' target=\"_blank\">https://wandb.ai-8-massachusetts-institute-of-technology/nanogpt-tinystories/runs/hlvxtchx</a>"
            ],
            "text/plain": [
              "<IPython.core.display.HTML object>"
            ]
          },
          "metadata": {},
          "output_type": "display_data"
        },
        {
          "data": {
            "text/html": [
              "<button onClick=\"this.nextSibling.style.display='block';this.style.display='none';\">Display W&B run</button><iframe src='https://wandb.ai-8-massachusetts-institute-of-technology/nanogpt-tinystories/runs/hlvxtchx?jupyter=true' style='border:none;width:100%;height:420px;display:none;'></iframe>"
            ],
            "text/plain": [
              "<wandb.sdk.wandb_run.Run at 0x7d72498c8650>"
            ]
          },
          "execution_count": 6,
          "metadata": {},
          "output_type": "execute_result"
        }
      ],
      "source": [
        "wandb.init(project=\"nanogpt-tinystories\", name=\"nanoGPT\", config=wandb_config)\n"
      ]
    },
    {
      "cell_type": "markdown",
      "metadata": {
        "id": "2_RfdgYTdu0_"
      },
      "source": [
        "# Tiny Stories datasets and preprocessing\n",
        "\n",
        "TinyStories, a synthetic dataset of short stories that only contain words that a typical 3 to 4-year-olds usually understand, generated by GPT-3.5 and GPT-4. We show that TinyStories can be used to train and evaluate LMs that are much smaller than the state-of-the-art models (below 10 million total parameters)"
      ]
    },
    {
      "cell_type": "code",
      "execution_count": 7,
      "metadata": {
        "colab": {
          "base_uri": "https://localhost:8080/",
          "height": 1000,
          "referenced_widgets": [
            "e3f78e853c5d4fccaed573f05082ff55",
            "116af1d5f4b84e969d77d72843f034c0",
            "18b605242d4c4eb195fe834af7e24660",
            "148dd7a2d92d4bb08bce113b3f534bb6",
            "1641d53d84de40819ea8a899eaedc3ea",
            "fd924f38b2e84c65b701605981f3febd",
            "8ca8c77a76b745779b0511ab66e526f0",
            "f4bfa8df6c67462281de28f6c78a5b4b",
            "80a710a67d6844048f99f8380c1b2d1d",
            "94b8083b60464b17b6869adea74730e5",
            "6fb4b0e9da3546b28b94524426b36da8",
            "8f51cffe3a9449818d99aeffcd76f2d7",
            "cb98ded511ec4f418c263af2fdb7f645",
            "e1001e29b6964f39967b89b4354228c9",
            "f7a7fecf7a70474cbe7bfce1745dcd31",
            "a6c18e19e3e142199dbd506edee475ec",
            "9a1e82c95c9b483bbf3de213837cff80",
            "1b670c8bda8946cb86b8ed24f647f752",
            "c9a8a8b24179411288373106774e0ee8",
            "2a5122c7c8754d5ea931b1c94d594783",
            "42c7857241974029a892ad89dff0a4d5",
            "293b4e835165406184816cfe07f86ca9",
            "f9df1b7c6b40499ab13d8b5e7f7ef584",
            "5e18893e33824c9487f75aba550fe68c",
            "f8c8ddf77a084cd9a8446437d508fc25",
            "32fa532ab28d45f59951733fb3c32115",
            "aa29f78501ef427691402071c5f7c27f",
            "455a96b531dd487dbf32a69e0c1e3db2",
            "865a38a219844cbbb717109e20932334",
            "e564b95d7d044728b565efc0b21a0e09",
            "7f1eb21ca2fc4a73b9336af92fa8fd37",
            "802276bca7c64287a3c5c33ef75c3c8e",
            "675e14d71749407fa4311d3ee0292a4a",
            "9cb185a37b054108b44c46edf5c2ac56",
            "e16dc7c5ceda4069ba3b0d5fefb1f223",
            "7a3def59fe85451b8a7193177519e669",
            "5a180ab1ec774d719b3f998bb0f63abe",
            "9b4802f979ee4b64925f4e4a392fa89b",
            "d703b022d88c4105af9bf829e77ddc0c",
            "4f80d681ea914ad18b4280d6e5075279",
            "cb9f1835c14947429a613e29a9f790d4",
            "07991fffcc72425298e1504c7fde02ba",
            "04997f61fee84189a0347e3b9ea7c55b",
            "1ca54954887a473a8521ad56e820f467",
            "fcbd9d5b954443ceacc10b5a2998c9d2",
            "48ed4a4cfde84451a8f682efb19631e4",
            "3770f909def044e484fe955235fe1dfe",
            "5abaed5d34c5436f9ffc247ac225210b",
            "2660df36c9de435b9003173aac31eb01",
            "5dbcfebf7ffe4ca68b5cf032d1518968",
            "9bc613fcefea40c19e31ad58e27e162b",
            "e4992e8793ab409ca8bafbb18581eba0",
            "fe64069b5a694d5385b8820fe144b2db",
            "1fb1c5496d1f4cc996b82cc7e63a94e8",
            "f7c935a4007e4d92838461d263fa463c",
            "ca2cfee18bb646ff8797e3fac616c057",
            "3c32abc010074e51b4ea433afa7b4bc7",
            "e461b2dd5cf247029231bbff52e574b7",
            "a4bd52ed024144ad83f1cdf6f8c0d7f6",
            "34387505b47543ed84e9c50f768be244",
            "6e81cf5d1a4c4d1eaff356a3f0e8683b",
            "996caa9f8e43490cb8aca6fc4a653f16",
            "08963eb76bc645258bc3e02358a16c53",
            "291604f82f94462483e60513e30bd65c",
            "259246e25fc7446f8c59a972e442d932",
            "b08f73d16702443091746d7e27d637fd",
            "b79f51595ba844699031a12d821b3882",
            "2ffe688d6e6143dfad6ecaf18050027d",
            "cfd195b6320745eebcef34726c8d0100",
            "730080a1b91d4312bd1a59461e6880ac",
            "f57b5fb371e94a94adb8ea75eda5e4f7",
            "fd4002f2d109456b83777c8bbb03513c",
            "e0fde917cee949bb9315a53e84446a1c",
            "a673a1d9364040bdb64d8eb2905141a3",
            "33390669c26d442593c53b97a65478d2",
            "7e09a508025e45ef912ac70f9359bb21",
            "9bda0caacf194d928ce4a39b42c2ec70",
            "bb9b463fb4f6459f88bacc61376a584f",
            "4a2abecdcd4c4652b8590d934c7b438c",
            "f40bab7460be4e049dce529d9a23ca51",
            "37542faf419b42ec9125a2a6a95ff5c1",
            "e6f557d07d554c089aec228941af81c5",
            "bfe89552e9b6464fb39e69cdbed863bd",
            "cc8abec8ed5b4abbaf8f2fa0e4811bac",
            "0d2ed2a55cfa4e2780ef2c1698f1f3bd",
            "2c036e0772bc4ce4b65d80dbe7e30609",
            "06cbf55284b24425acf8a36171cf44e1",
            "e982040f2d8344fa9c7a845bcad405a2"
          ]
        },
        "id": "sDTlxOOSdu0_",
        "outputId": "1987d669-ea51-45a8-cc9e-711b22e60aba",
        "trusted": true
      },
      "outputs": [
        {
          "name": "stdout",
          "output_type": "stream",
          "text": [
            "Collecting datasets\n",
            "  Downloading datasets-3.5.1-py3-none-any.whl.metadata (19 kB)\n",
            "Requirement already satisfied: filelock in /usr/local/lib/python3.11/dist-packages (from datasets) (3.18.0)\n",
            "Requirement already satisfied: numpy>=1.17 in /usr/local/lib/python3.11/dist-packages (from datasets) (2.0.2)\n",
            "Requirement already satisfied: pyarrow>=15.0.0 in /usr/local/lib/python3.11/dist-packages (from datasets) (18.1.0)\n",
            "Collecting dill<0.3.9,>=0.3.0 (from datasets)\n",
            "  Downloading dill-0.3.8-py3-none-any.whl.metadata (10 kB)\n",
            "Requirement already satisfied: pandas in /usr/local/lib/python3.11/dist-packages (from datasets) (2.2.2)\n",
            "Requirement already satisfied: requests>=2.32.2 in /usr/local/lib/python3.11/dist-packages (from datasets) (2.32.3)\n",
            "Requirement already satisfied: tqdm>=4.66.3 in /usr/local/lib/python3.11/dist-packages (from datasets) (4.67.1)\n",
            "Collecting xxhash (from datasets)\n",
            "  Downloading xxhash-3.5.0-cp311-cp311-manylinux_2_17_x86_64.manylinux2014_x86_64.whl.metadata (12 kB)\n",
            "Collecting multiprocess<0.70.17 (from datasets)\n",
            "  Downloading multiprocess-0.70.16-py311-none-any.whl.metadata (7.2 kB)\n",
            "Collecting fsspec<=2025.3.0,>=2023.1.0 (from fsspec[http]<=2025.3.0,>=2023.1.0->datasets)\n",
            "  Downloading fsspec-2025.3.0-py3-none-any.whl.metadata (11 kB)\n",
            "Requirement already satisfied: aiohttp in /usr/local/lib/python3.11/dist-packages (from datasets) (3.11.15)\n",
            "Requirement already satisfied: huggingface-hub>=0.24.0 in /usr/local/lib/python3.11/dist-packages (from datasets) (0.30.2)\n",
            "Requirement already satisfied: packaging in /usr/local/lib/python3.11/dist-packages (from datasets) (24.2)\n",
            "Requirement already satisfied: pyyaml>=5.1 in /usr/local/lib/python3.11/dist-packages (from datasets) (6.0.2)\n",
            "Requirement already satisfied: aiohappyeyeballs>=2.3.0 in /usr/local/lib/python3.11/dist-packages (from aiohttp->datasets) (2.6.1)\n",
            "Requirement already satisfied: aiosignal>=1.1.2 in /usr/local/lib/python3.11/dist-packages (from aiohttp->datasets) (1.3.2)\n",
            "Requirement already satisfied: attrs>=17.3.0 in /usr/local/lib/python3.11/dist-packages (from aiohttp->datasets) (25.3.0)\n",
            "Requirement already satisfied: frozenlist>=1.1.1 in /usr/local/lib/python3.11/dist-packages (from aiohttp->datasets) (1.6.0)\n",
            "Requirement already satisfied: multidict<7.0,>=4.5 in /usr/local/lib/python3.11/dist-packages (from aiohttp->datasets) (6.4.3)\n",
            "Requirement already satisfied: propcache>=0.2.0 in /usr/local/lib/python3.11/dist-packages (from aiohttp->datasets) (0.3.1)\n",
            "Requirement already satisfied: yarl<2.0,>=1.17.0 in /usr/local/lib/python3.11/dist-packages (from aiohttp->datasets) (1.20.0)\n",
            "Requirement already satisfied: typing-extensions>=3.7.4.3 in /usr/local/lib/python3.11/dist-packages (from huggingface-hub>=0.24.0->datasets) (4.13.2)\n",
            "Requirement already satisfied: charset-normalizer<4,>=2 in /usr/local/lib/python3.11/dist-packages (from requests>=2.32.2->datasets) (3.4.1)\n",
            "Requirement already satisfied: idna<4,>=2.5 in /usr/local/lib/python3.11/dist-packages (from requests>=2.32.2->datasets) (3.10)\n",
            "Requirement already satisfied: urllib3<3,>=1.21.1 in /usr/local/lib/python3.11/dist-packages (from requests>=2.32.2->datasets) (2.4.0)\n",
            "Requirement already satisfied: certifi>=2017.4.17 in /usr/local/lib/python3.11/dist-packages (from requests>=2.32.2->datasets) (2025.4.26)\n",
            "Requirement already satisfied: python-dateutil>=2.8.2 in /usr/local/lib/python3.11/dist-packages (from pandas->datasets) (2.9.0.post0)\n",
            "Requirement already satisfied: pytz>=2020.1 in /usr/local/lib/python3.11/dist-packages (from pandas->datasets) (2025.2)\n",
            "Requirement already satisfied: tzdata>=2022.7 in /usr/local/lib/python3.11/dist-packages (from pandas->datasets) (2025.2)\n",
            "Requirement already satisfied: six>=1.5 in /usr/local/lib/python3.11/dist-packages (from python-dateutil>=2.8.2->pandas->datasets) (1.17.0)\n",
            "Downloading datasets-3.5.1-py3-none-any.whl (491 kB)\n",
            "\u001b[2K   \u001b[90m\u2501\u2501\u2501\u2501\u2501\u2501\u2501\u2501\u2501\u2501\u2501\u2501\u2501\u2501\u2501\u2501\u2501\u2501\u2501\u2501\u2501\u2501\u2501\u2501\u2501\u2501\u2501\u2501\u2501\u2501\u2501\u2501\u2501\u2501\u2501\u2501\u2501\u2501\u2501\u2501\u001b[0m \u001b[32m491.4/491.4 kB\u001b[0m \u001b[31m13.0 MB/s\u001b[0m eta \u001b[36m0:00:00\u001b[0m\n",
            "\u001b[?25hDownloading dill-0.3.8-py3-none-any.whl (116 kB)\n",
            "\u001b[2K   \u001b[90m\u2501\u2501\u2501\u2501\u2501\u2501\u2501\u2501\u2501\u2501\u2501\u2501\u2501\u2501\u2501\u2501\u2501\u2501\u2501\u2501\u2501\u2501\u2501\u2501\u2501\u2501\u2501\u2501\u2501\u2501\u2501\u2501\u2501\u2501\u2501\u2501\u2501\u2501\u2501\u2501\u001b[0m \u001b[32m116.3/116.3 kB\u001b[0m \u001b[31m10.7 MB/s\u001b[0m eta \u001b[36m0:00:00\u001b[0m\n",
            "\u001b[?25hDownloading fsspec-2025.3.0-py3-none-any.whl (193 kB)\n",
            "\u001b[2K   \u001b[90m\u2501\u2501\u2501\u2501\u2501\u2501\u2501\u2501\u2501\u2501\u2501\u2501\u2501\u2501\u2501\u2501\u2501\u2501\u2501\u2501\u2501\u2501\u2501\u2501\u2501\u2501\u2501\u2501\u2501\u2501\u2501\u2501\u2501\u2501\u2501\u2501\u2501\u2501\u2501\u2501\u001b[0m \u001b[32m193.6/193.6 kB\u001b[0m \u001b[31m17.0 MB/s\u001b[0m eta \u001b[36m0:00:00\u001b[0m\n",
            "\u001b[?25hDownloading multiprocess-0.70.16-py311-none-any.whl (143 kB)\n",
            "\u001b[2K   \u001b[90m\u2501\u2501\u2501\u2501\u2501\u2501\u2501\u2501\u2501\u2501\u2501\u2501\u2501\u2501\u2501\u2501\u2501\u2501\u2501\u2501\u2501\u2501\u2501\u2501\u2501\u2501\u2501\u2501\u2501\u2501\u2501\u2501\u2501\u2501\u2501\u2501\u2501\u2501\u2501\u2501\u001b[0m \u001b[32m143.5/143.5 kB\u001b[0m \u001b[31m14.3 MB/s\u001b[0m eta \u001b[36m0:00:00\u001b[0m\n",
            "\u001b[?25hDownloading xxhash-3.5.0-cp311-cp311-manylinux_2_17_x86_64.manylinux2014_x86_64.whl (194 kB)\n",
            "\u001b[2K   \u001b[90m\u2501\u2501\u2501\u2501\u2501\u2501\u2501\u2501\u2501\u2501\u2501\u2501\u2501\u2501\u2501\u2501\u2501\u2501\u2501\u2501\u2501\u2501\u2501\u2501\u2501\u2501\u2501\u2501\u2501\u2501\u2501\u2501\u2501\u2501\u2501\u2501\u2501\u2501\u2501\u2501\u001b[0m \u001b[32m194.8/194.8 kB\u001b[0m \u001b[31m18.0 MB/s\u001b[0m eta \u001b[36m0:00:00\u001b[0m\n",
            "\u001b[?25hInstalling collected packages: xxhash, fsspec, dill, multiprocess, datasets\n",
            "  Attempting uninstall: fsspec\n",
            "    Found existing installation: fsspec 2025.3.2\n",
            "    Uninstalling fsspec-2025.3.2:\n",
            "      Successfully uninstalled fsspec-2025.3.2\n",
            "\u001b[31mERROR: pip's dependency resolver does not currently take into account all the packages that are installed. This behaviour is the source of the following dependency conflicts.\n",
            "torch 2.6.0+cu124 requires nvidia-cublas-cu12==12.4.5.8; platform_system == \"Linux\" and platform_machine == \"x86_64\", but you have nvidia-cublas-cu12 12.5.3.2 which is incompatible.\n",
            "torch 2.6.0+cu124 requires nvidia-cuda-cupti-cu12==12.4.127; platform_system == \"Linux\" and platform_machine == \"x86_64\", but you have nvidia-cuda-cupti-cu12 12.5.82 which is incompatible.\n",
            "torch 2.6.0+cu124 requires nvidia-cuda-nvrtc-cu12==12.4.127; platform_system == \"Linux\" and platform_machine == \"x86_64\", but you have nvidia-cuda-nvrtc-cu12 12.5.82 which is incompatible.\n",
            "torch 2.6.0+cu124 requires nvidia-cuda-runtime-cu12==12.4.127; platform_system == \"Linux\" and platform_machine == \"x86_64\", but you have nvidia-cuda-runtime-cu12 12.5.82 which is incompatible.\n",
            "torch 2.6.0+cu124 requires nvidia-cudnn-cu12==9.1.0.70; platform_system == \"Linux\" and platform_machine == \"x86_64\", but you have nvidia-cudnn-cu12 9.3.0.75 which is incompatible.\n",
            "torch 2.6.0+cu124 requires nvidia-cufft-cu12==11.2.1.3; platform_system == \"Linux\" and platform_machine == \"x86_64\", but you have nvidia-cufft-cu12 11.2.3.61 which is incompatible.\n",
            "torch 2.6.0+cu124 requires nvidia-curand-cu12==10.3.5.147; platform_system == \"Linux\" and platform_machine == \"x86_64\", but you have nvidia-curand-cu12 10.3.6.82 which is incompatible.\n",
            "torch 2.6.0+cu124 requires nvidia-cusolver-cu12==11.6.1.9; platform_system == \"Linux\" and platform_machine == \"x86_64\", but you have nvidia-cusolver-cu12 11.6.3.83 which is incompatible.\n",
            "torch 2.6.0+cu124 requires nvidia-cusparse-cu12==12.3.1.170; platform_system == \"Linux\" and platform_machine == \"x86_64\", but you have nvidia-cusparse-cu12 12.5.1.3 which is incompatible.\n",
            "torch 2.6.0+cu124 requires nvidia-nvjitlink-cu12==12.4.127; platform_system == \"Linux\" and platform_machine == \"x86_64\", but you have nvidia-nvjitlink-cu12 12.5.82 which is incompatible.\n",
            "gcsfs 2025.3.2 requires fsspec==2025.3.2, but you have fsspec 2025.3.0 which is incompatible.\u001b[0m\u001b[31m\n",
            "\u001b[0mSuccessfully installed datasets-3.5.1 dill-0.3.8 fsspec-2025.3.0 multiprocess-0.70.16 xxhash-3.5.0\n"
          ]
        },
        {
          "name": "stderr",
          "output_type": "stream",
          "text": [
            "/usr/local/lib/python3.11/dist-packages/huggingface_hub/utils/_auth.py:94: UserWarning: \n",
            "The secret `HF_TOKEN` does not exist in your Colab secrets.\n",
            "To authenticate with the Hugging Face Hub, create a token in your settings tab (https://huggingface.co/settings/tokens), set it as secret in your Google Colab and restart your session.\n",
            "You will be able to reuse this secret in all of your notebooks.\n",
            "Please note that authentication is recommended but still optional to access public models or datasets.\n",
            "  warnings.warn(\n"
          ]
        },
        {
          "data": {
            "application/vnd.jupyter.widget-view+json": {
              "model_id": "e3f78e853c5d4fccaed573f05082ff55",
              "version_major": 2,
              "version_minor": 0
            },
            "text/plain": [
              "README.md:   0%|          | 0.00/1.06k [00:00<?, ?B/s]"
            ]
          },
          "metadata": {},
          "output_type": "display_data"
        },
        {
          "data": {
            "application/vnd.jupyter.widget-view+json": {
              "model_id": "8f51cffe3a9449818d99aeffcd76f2d7",
              "version_major": 2,
              "version_minor": 0
            },
            "text/plain": [
              "(\u2026)-00000-of-00004-2d5a1467fff1081b.parquet:   0%|          | 0.00/249M [00:00<?, ?B/s]"
            ]
          },
          "metadata": {},
          "output_type": "display_data"
        },
        {
          "data": {
            "application/vnd.jupyter.widget-view+json": {
              "model_id": "f9df1b7c6b40499ab13d8b5e7f7ef584",
              "version_major": 2,
              "version_minor": 0
            },
            "text/plain": [
              "(\u2026)-00001-of-00004-5852b56a2bd28fd9.parquet:   0%|          | 0.00/248M [00:00<?, ?B/s]"
            ]
          },
          "metadata": {},
          "output_type": "display_data"
        },
        {
          "data": {
            "application/vnd.jupyter.widget-view+json": {
              "model_id": "9cb185a37b054108b44c46edf5c2ac56",
              "version_major": 2,
              "version_minor": 0
            },
            "text/plain": [
              "(\u2026)-00002-of-00004-a26307300439e943.parquet:   0%|          | 0.00/246M [00:00<?, ?B/s]"
            ]
          },
          "metadata": {},
          "output_type": "display_data"
        },
        {
          "data": {
            "application/vnd.jupyter.widget-view+json": {
              "model_id": "fcbd9d5b954443ceacc10b5a2998c9d2",
              "version_major": 2,
              "version_minor": 0
            },
            "text/plain": [
              "(\u2026)-00003-of-00004-d243063613e5a057.parquet:   0%|          | 0.00/248M [00:00<?, ?B/s]"
            ]
          },
          "metadata": {},
          "output_type": "display_data"
        },
        {
          "data": {
            "application/vnd.jupyter.widget-view+json": {
              "model_id": "ca2cfee18bb646ff8797e3fac616c057",
              "version_major": 2,
              "version_minor": 0
            },
            "text/plain": [
              "(\u2026)-00000-of-00001-869c898b519ad725.parquet:   0%|          | 0.00/9.99M [00:00<?, ?B/s]"
            ]
          },
          "metadata": {},
          "output_type": "display_data"
        },
        {
          "data": {
            "application/vnd.jupyter.widget-view+json": {
              "model_id": "b79f51595ba844699031a12d821b3882",
              "version_major": 2,
              "version_minor": 0
            },
            "text/plain": [
              "Generating train split:   0%|          | 0/2119719 [00:00<?, ? examples/s]"
            ]
          },
          "metadata": {},
          "output_type": "display_data"
        },
        {
          "data": {
            "application/vnd.jupyter.widget-view+json": {
              "model_id": "bb9b463fb4f6459f88bacc61376a584f",
              "version_major": 2,
              "version_minor": 0
            },
            "text/plain": [
              "Generating validation split:   0%|          | 0/21990 [00:00<?, ? examples/s]"
            ]
          },
          "metadata": {},
          "output_type": "display_data"
        }
      ],
      "source": [
        "!pip install datasets\n",
        "\n",
        "from datasets import load_dataset\n",
        "\n",
        "ds = load_dataset(\"roneneldan/TinyStories\")"
      ]
    },
    {
      "cell_type": "code",
      "execution_count": 8,
      "metadata": {
        "colab": {
          "base_uri": "https://localhost:8080/",
          "height": 145,
          "referenced_widgets": [
            "ab399ea923d94208ae6510229cbfadbc",
            "401641dd2d5e44d8a0e8a6c43fab159b",
            "67e65296e50842f69f8dca851b5733c5",
            "afcbbf7f4f7746389f0c25392dc04390",
            "5cb12446fd34429680b96bedfe41d4e7",
            "a466982c1ec54f6f8dbb5089c5417e5b",
            "c25b732e5180442dadb25d3ef79b29ed",
            "36aa8e2641c64c89b2fb2e2b557a5c68",
            "3f8299396daa4f1491d9c729a6f39707",
            "ea5c824fdafb4868840005d6ac5bc0a9",
            "7fd31999d9924892aa6f67b8365c1dfd",
            "4305278639b84621bdb59afb9cdebc62",
            "590ef77dfeee4952b7d68b4ed88ced0b",
            "7d4b5b0340fd4891a2e68256afbbd46d",
            "499397eefe334af99840c6a7e78af7e8",
            "d21da38239404385825d84506957291a",
            "e8d1a404597b435a97cf884c4ef71edc",
            "8c7f82d15eda4b28a771aba6d604e49c",
            "7e7c047142d84f87a4492e0774ef2bbf",
            "a2821237f8c5468ea455cd686d6320f1",
            "93a82e83ebc046b5b7f35b97749c1a20",
            "e99ac4f4d3f445fea5d79cd1f67ac071",
            "efb986a96c884f31b397e9362169a5b4",
            "474734ff90fa4677b4ade2f46a69a644",
            "fff46afeb8cb49d99c1ab7f55c80ad88",
            "0dcb9e7d51ce4b9d8beefea682167707",
            "c438dbc0b6c242c99a6b7d4b156bcb9e",
            "ed947a124f41493c95a55f9983e50101",
            "9ef39a0a650d4415b78a52eda2bd182b",
            "7d330f7e1e0f4840a2415ed7ea5d9d63",
            "62fc8cbc6b4d4f1484ea3024f7acf037",
            "70f2174295ed4be69baafd8c0412af59",
            "4f080ac093584b078de72b0102478022",
            "bc949127cd4b4ca9852ea24eb743e889",
            "0bd12c2d3df74641b18e5614263461bf",
            "2ccdbd4281434772960fa7666a0e4102",
            "abff350a07754311b6b9723a8a2fc056",
            "bcac11141d6a44cfa041f75c3da1f95b",
            "0b4dacde0f934f738991c2e054a2ff53",
            "868a943656914ff7a0b59049899be6ef",
            "f77c2aa2a481426fa09c6bb30f25406e",
            "39e7cef12bd949e080dbc81abe289f61",
            "ba6b91ed56f540c6b748b289e74e6bac",
            "03551a0f75684f4db83ac85db2b00554"
          ]
        },
        "execution": {
          "iopub.execute_input": "2024-06-20T15:38:31.416375Z",
          "iopub.status.busy": "2024-06-20T15:38:31.416008Z",
          "iopub.status.idle": "2024-06-20T15:38:35.033742Z",
          "shell.execute_reply": "2024-06-20T15:38:35.032488Z",
          "shell.execute_reply.started": "2024-06-20T15:38:31.416342Z"
        },
        "id": "b1X3ygXxdu0_",
        "outputId": "b8ce051d-8254-41fe-fc8c-cc6516ff93a5",
        "trusted": true
      },
      "outputs": [
        {
          "data": {
            "application/vnd.jupyter.widget-view+json": {
              "model_id": "ab399ea923d94208ae6510229cbfadbc",
              "version_major": 2,
              "version_minor": 0
            },
            "text/plain": [
              "tokenizing the splits (num_proc=8):   0%|          | 0/2119719 [00:00<?, ? examples/s]"
            ]
          },
          "metadata": {},
          "output_type": "display_data"
        },
        {
          "data": {
            "application/vnd.jupyter.widget-view+json": {
              "model_id": "4305278639b84621bdb59afb9cdebc62",
              "version_major": 2,
              "version_minor": 0
            },
            "text/plain": [
              "tokenizing the splits (num_proc=8):   0%|          | 0/21990 [00:00<?, ? examples/s]"
            ]
          },
          "metadata": {},
          "output_type": "display_data"
        },
        {
          "data": {
            "application/vnd.jupyter.widget-view+json": {
              "model_id": "efb986a96c884f31b397e9362169a5b4",
              "version_major": 2,
              "version_minor": 0
            },
            "text/plain": [
              "writing train.bin:   0%|          | 0/1024 [00:00<?, ?it/s]"
            ]
          },
          "metadata": {},
          "output_type": "display_data"
        },
        {
          "data": {
            "application/vnd.jupyter.widget-view+json": {
              "model_id": "bc949127cd4b4ca9852ea24eb743e889",
              "version_major": 2,
              "version_minor": 0
            },
            "text/plain": [
              "writing validation.bin:   0%|          | 0/1024 [00:00<?, ?it/s]"
            ]
          },
          "metadata": {},
          "output_type": "display_data"
        }
      ],
      "source": [
        "import tiktoken\n",
        "import os\n",
        "\n",
        "enc = tiktoken.get_encoding(\"gpt2\")\n",
        "\n",
        "# Some functions from https://github.com/karpathy/nanoGPT/blob/master/data/openwebtext/prepare.py\n",
        "\n",
        "def process(example):\n",
        "    ids = enc.encode_ordinary(example['text']) # encode_ordinary ignores any special tokens\n",
        "    out = {'ids': ids, 'len': len(ids)}\n",
        "    return out\n",
        "\n",
        "if not os.path.exists(\"train.bin\"):\n",
        "    tokenized = ds.map(\n",
        "        process,\n",
        "        remove_columns=['text'],\n",
        "        desc=\"tokenizing the splits\",\n",
        "        num_proc=8,\n",
        "        )\n",
        "    # concatenate all the ids in each dataset into one large file we can use for training\n",
        "    for split, dset in tokenized.items():\n",
        "        arr_len = np.sum(dset['len'], dtype=np.uint64)\n",
        "        filename = f'{split}.bin'\n",
        "        dtype = np.uint16 # (can do since enc.max_token_value == 50256 is < 2**16)\n",
        "        arr = np.memmap(filename, dtype=dtype, mode='w+', shape=(arr_len,))\n",
        "        total_batches = 1024\n",
        "\n",
        "        idx = 0\n",
        "        for batch_idx in tqdm(range(total_batches), desc=f'writing {filename}'):\n",
        "            # Batch together samples for faster write\n",
        "            batch = dset.shard(num_shards=total_batches, index=batch_idx, contiguous=True).with_format('numpy')\n",
        "            arr_batch = np.concatenate(batch['ids'])\n",
        "            # Write into mmap\n",
        "            arr[idx : idx + len(arr_batch)] = arr_batch\n",
        "            idx += len(arr_batch)\n",
        "        arr.flush()"
      ]
    },
    {
      "cell_type": "markdown",
      "metadata": {
        "id": "N2oP2O-rdu0_"
      },
      "source": [
        "# Training"
      ]
    },
    {
      "cell_type": "code",
      "execution_count": 9,
      "metadata": {
        "id": "LuOfyrPMdu0_",
        "trusted": true
      },
      "outputs": [],
      "source": [
        "# Some functions from https://github.com/karpathy/nanoGPT/blob/master/train.py with slight modifications\n",
        "def get_batch(split):\n",
        "    # We recreate np.memmap every batch to avoid a memory leak, as per\n",
        "    # https://stackoverflow.com/questions/45132940/numpy-memmap-memory-usage-want-to-iterate-once/61472122#61472122\n",
        "    if split == 'train':\n",
        "        data = np.memmap('train.bin', dtype=np.uint16, mode='r')\n",
        "    else:\n",
        "        data = np.memmap('validation.bin', dtype=np.uint16, mode='r')\n",
        "    ix = torch.randint(len(data) - block_size, (batch_size,))\n",
        "    x = torch.stack([torch.from_numpy((data[i:i+block_size]).astype(np.int64)) for i in ix])\n",
        "    y = torch.stack([torch.from_numpy((data[i+1:i+1+block_size]).astype(np.int64)) for i in ix])\n",
        "    if device_type == 'cuda':\n",
        "        # pin arrays x,y, which allows us to move them to GPU asynchronously (non_blocking=True)\n",
        "        x, y = x.pin_memory().to(device, non_blocking=True), y.pin_memory().to(device, non_blocking=True)\n",
        "    else:\n",
        "        x, y = x.to(device), y.to(device)\n",
        "    return x, y\n",
        "\n",
        "\n",
        "def estimate_loss(model):\n",
        "    out = {}\n",
        "    model.eval()\n",
        "    with torch.inference_mode():\n",
        "        for split in ['train', 'val']:\n",
        "            losses = torch.zeros(eval_iters)\n",
        "            for k in range(eval_iters):\n",
        "                X, Y = get_batch(split)\n",
        "                with ctx:\n",
        "                    logits, loss = model(X, Y)\n",
        "                losses[k] = loss.item()\n",
        "            out[split] = losses.mean()\n",
        "    model.train()\n",
        "    return out"
      ]
    },
    {
      "cell_type": "code",
      "execution_count": 10,
      "metadata": {
        "colab": {
          "base_uri": "https://localhost:8080/"
        },
        "id": "fd33vK5Kdu0_",
        "outputId": "d82f0c5e-9c0c-41a9-8ce0-9a529bf601e1",
        "trusted": true
      },
      "outputs": [
        {
          "data": {
            "text/plain": [
              "<torch._C.Generator at 0x7d7338457950>"
            ]
          },
          "execution_count": 10,
          "metadata": {},
          "output_type": "execute_result"
        }
      ],
      "source": [
        "# Training Config\n",
        "\n",
        "learning_rate = 1e-3\n",
        "max_iters = 4000\n",
        "warmup_steps = 100\n",
        "min_lr = 5e-5\n",
        "eval_iters = 100\n",
        "batch_size = 6\n",
        "block_size = 384\n",
        "\n",
        "gradient_accumulation_steps = 4\n",
        "\n",
        "device =  \"cuda\" if torch.cuda.is_available() else \"cpu\"\n",
        "device_type = 'cuda' if 'cuda' in device else 'cpu' # for later use in torch.autocast\n",
        "# note: float16 data type will automatically use a GradScaler\n",
        "\n",
        "# How to use autocast https://wandb.ai/wandb_fc/tips/reports/How-To-Use-Autocast-in-PyTorch--VmlldzoyMTk4NTky\n",
        "dtype = 'bfloat16' if torch.cuda.is_available() and torch.cuda.is_bf16_supported() else 'float16' # 'float32', 'bfloat16', or 'float16', the latter will auto implement a GradScaler\n",
        "ptdtype = {'float32': torch.float32, 'bfloat16': torch.bfloat16, 'float16': torch.float16}[dtype]\n",
        "\n",
        "ctx = nullcontext() if device_type == 'cpu' else torch.amp.autocast(device_type=device_type, dtype=ptdtype)\n",
        "\n",
        "torch.set_default_device(device)\n",
        "torch.manual_seed(42)"
      ]
    },
    {
      "cell_type": "code",
      "execution_count": 11,
      "metadata": {
        "colab": {
          "base_uri": "https://localhost:8080/"
        },
        "id": "4TyhxHB3du1A",
        "outputId": "39950dfd-e3da-432c-b996-119e10403075",
        "trusted": true
      },
      "outputs": [
        {
          "name": "stdout",
          "output_type": "stream",
          "text": [
            "number of parameters: 33.51M\n"
          ]
        },
        {
          "name": "stderr",
          "output_type": "stream",
          "text": [
            "<ipython-input-11-d2e02fa34ae2>:11: FutureWarning: `torch.cuda.amp.GradScaler(args...)` is deprecated. Please use `torch.amp.GradScaler('cuda', args...)` instead.\n",
            "  scaler = torch.cuda.amp.GradScaler(enabled=(dtype == 'float16'))\n"
          ]
        }
      ],
      "source": [
        "from torch.optim.lr_scheduler import LinearLR,SequentialLR, CosineAnnealingLR\n",
        "\n",
        "nanoGPT = GPT.GPT(config)\n",
        "optimizer =  torch.optim.AdamW(nanoGPT.parameters(), lr=learning_rate, betas=(0.9, 0.98), eps=1e-9)\n",
        "\n",
        "scheduler_warmup = LinearLR(optimizer, total_iters = warmup_steps) #Implement linear warmup\n",
        "scheduler_decay = CosineAnnealingLR(optimizer,T_max = max_iters - warmup_steps, eta_min = min_lr) #Implement lr decay\n",
        "scheduler = SequentialLR(optimizer, schedulers=[scheduler_warmup, scheduler_decay], milestones=[warmup_steps]) #Switching from warmup to decay\n",
        "\n",
        "# https://stackoverflow.com/questions/72534859/is-gradscaler-necessary-with-mixed-precision-training-with-pytorch\n",
        "scaler = torch.cuda.amp.GradScaler(enabled=(dtype == 'float16'))"
      ]
    },
    {
      "cell_type": "code",
      "execution_count": 12,
      "metadata": {
        "colab": {
          "base_uri": "https://localhost:8080/",
          "height": 1000,
          "referenced_widgets": [
            "f3a3eaa3a0864daea3c08dc2ec039794",
            "5bfe0b628407461288a0d0b5dd33367d",
            "8a00cbddfee9474392f740413229603f",
            "e2c15056b22b4fb08f1e4066e5952a4b",
            "3726c77233d74323805da18c3f7dacfe",
            "a8e45c1444e240669855be72c8a3814f",
            "6a5e3fbb262b4658be07b0dfe108b212",
            "b227fc4d26a64e508c72c56f9318f551",
            "0bf2c7e0f8e0429e8e624c82a1fd367a",
            "80fbe781c56c4b4c8263d09c54ad6936",
            "207ddaded37a4680b124c6f0a379d4b2"
          ]
        },
        "id": "3blYH15ydu1A",
        "outputId": "b314ecc6-aa9d-4d81-a8c3-4b865f8be9f9",
        "trusted": true
      },
      "outputs": [
        {
          "data": {
            "application/vnd.jupyter.widget-view+json": {
              "model_id": "f3a3eaa3a0864daea3c08dc2ec039794",
              "version_major": 2,
              "version_minor": 0
            },
            "text/plain": [
              "  0%|          | 0/4000 [00:00<?, ?it/s]"
            ]
          },
          "metadata": {},
          "output_type": "display_data"
        },
        {
          "name": "stderr",
          "output_type": "stream",
          "text": [
            "/usr/local/lib/python3.11/dist-packages/torch/optim/lr_scheduler.py:227: UserWarning: Detected call of `lr_scheduler.step()` before `optimizer.step()`. In PyTorch 1.1.0 and later, you should call them in the opposite order: `optimizer.step()` before `lr_scheduler.step()`.  Failure to do this will result in PyTorch skipping the first value of the learning rate schedule. See more details at https://pytorch.org/docs/stable/optim.html#how-to-adjust-learning-rate\n",
            "  warnings.warn(\n",
            "/usr/local/lib/python3.11/dist-packages/torch/optim/lr_scheduler.py:243: UserWarning: The epoch parameter in `scheduler.step()` was not necessary and is being deprecated where possible. Please use `scheduler.step()` to step the scheduler. During the deprecation, if epoch is different from None, the closed form is used instead of the new chainable form, where available. Please open an issue if you are unable to replicate your use case: https://github.com/pytorch/pytorch/issues/new/choose.\n",
            "  warnings.warn(EPOCH_DEPRECATION_WARNING, UserWarning)\n"
          ]
        },
        {
          "name": "stdout",
          "output_type": "stream",
          "text": [
            "Epoch 100: train loss 5.7328, val loss 5.7564\n",
            "The current learning rate: 0.0010\n",
            "Epoch 200: train loss 5.2284, val loss 5.2127\n",
            "The current learning rate: 0.0010\n",
            "Epoch 300: train loss 4.6277, val loss 4.6375\n",
            "The current learning rate: 0.0010\n",
            "Epoch 400: train loss 4.2943, val loss 4.2759\n",
            "The current learning rate: 0.0010\n",
            "Epoch 500: train loss 4.0867, val loss 4.1038\n",
            "The current learning rate: 0.0010\n",
            "Epoch 600: train loss 3.9639, val loss 3.9806\n",
            "The current learning rate: 0.0010\n",
            "Epoch 700: train loss 3.8763, val loss 3.8831\n",
            "The current learning rate: 0.0009\n",
            "Epoch 800: train loss 3.7918, val loss 3.7897\n",
            "The current learning rate: 0.0009\n",
            "Epoch 900: train loss 3.6709, val loss 3.6681\n",
            "The current learning rate: 0.0009\n",
            "Epoch 1000: train loss 3.5811, val loss 3.5691\n",
            "The current learning rate: 0.0009\n",
            "Epoch 1100: train loss 3.5323, val loss 3.5084\n",
            "The current learning rate: 0.0009\n",
            "Epoch 1200: train loss 3.3961, val loss 3.4399\n",
            "The current learning rate: 0.0008\n",
            "Epoch 1300: train loss 3.3356, val loss 3.3519\n",
            "The current learning rate: 0.0008\n",
            "Epoch 1400: train loss 3.2753, val loss 3.3133\n",
            "The current learning rate: 0.0008\n",
            "Epoch 1500: train loss 3.1934, val loss 3.2054\n",
            "The current learning rate: 0.0007\n",
            "Epoch 1600: train loss 3.1742, val loss 3.1362\n",
            "The current learning rate: 0.0007\n",
            "Epoch 1700: train loss 3.0776, val loss 3.0970\n",
            "The current learning rate: 0.0007\n",
            "Epoch 1800: train loss 3.0275, val loss 3.0450\n",
            "The current learning rate: 0.0006\n",
            "Epoch 1900: train loss 2.9913, val loss 2.9723\n",
            "The current learning rate: 0.0006\n",
            "Epoch 2000: train loss 2.9500, val loss 2.9166\n",
            "The current learning rate: 0.0005\n",
            "Epoch 2100: train loss 2.8972, val loss 2.9240\n",
            "The current learning rate: 0.0005\n",
            "Epoch 2200: train loss 2.8551, val loss 2.8719\n",
            "The current learning rate: 0.0005\n",
            "Epoch 2300: train loss 2.8277, val loss 2.8518\n",
            "The current learning rate: 0.0004\n",
            "Epoch 2400: train loss 2.7901, val loss 2.8106\n",
            "The current learning rate: 0.0004\n",
            "Epoch 2500: train loss 2.7605, val loss 2.7703\n",
            "The current learning rate: 0.0004\n",
            "Epoch 2600: train loss 2.7464, val loss 2.7550\n",
            "The current learning rate: 0.0003\n",
            "Epoch 2700: train loss 2.7214, val loss 2.7165\n",
            "The current learning rate: 0.0003\n",
            "Epoch 2800: train loss 2.6962, val loss 2.6905\n",
            "The current learning rate: 0.0003\n",
            "Epoch 2900: train loss 2.6720, val loss 2.6689\n",
            "The current learning rate: 0.0002\n",
            "Epoch 3000: train loss 2.6630, val loss 2.6491\n",
            "The current learning rate: 0.0002\n",
            "Epoch 3100: train loss 2.6288, val loss 2.6557\n",
            "The current learning rate: 0.0002\n",
            "Epoch 3200: train loss 2.6169, val loss 2.6440\n",
            "The current learning rate: 0.0001\n",
            "Epoch 3300: train loss 2.6414, val loss 2.6023\n",
            "The current learning rate: 0.0001\n",
            "Epoch 3400: train loss 2.5963, val loss 2.6212\n",
            "The current learning rate: 0.0001\n",
            "Epoch 3500: train loss 2.6056, val loss 2.6356\n",
            "The current learning rate: 0.0001\n",
            "Epoch 3600: train loss 2.5745, val loss 2.5852\n",
            "The current learning rate: 0.0001\n",
            "Epoch 3700: train loss 2.5822, val loss 2.5779\n",
            "The current learning rate: 0.0001\n",
            "Epoch 3800: train loss 2.5410, val loss 2.5740\n",
            "The current learning rate: 0.0001\n",
            "Epoch 3900: train loss 2.5683, val loss 2.5842\n",
            "The current learning rate: 0.0001\n"
          ]
        },
        {
          "data": {
            "text/html": [],
            "text/plain": [
              "<IPython.core.display.HTML object>"
            ]
          },
          "metadata": {},
          "output_type": "display_data"
        },
        {
          "data": {
            "text/html": [
              "<br>    <style><br>        .wandb-row {<br>            display: flex;<br>            flex-direction: row;<br>            flex-wrap: wrap;<br>            justify-content: flex-start;<br>            width: 100%;<br>        }<br>        .wandb-col {<br>            display: flex;<br>            flex-direction: column;<br>            flex-basis: 100%;<br>            flex: 1;<br>            padding: 10px;<br>        }<br>    </style><br><div class=\"wandb-row\"><div class=\"wandb-col\"><h3>Run history:</h3><br/><table class=\"wandb\"><tr><td>epoch</td><td>\u2581\u2581\u2581\u2582\u2582\u2582\u2582\u2582\u2582\u2583\u2583\u2583\u2583\u2583\u2584\u2584\u2584\u2584\u2584\u2585\u2585\u2585\u2585\u2585\u2585\u2586\u2586\u2586\u2586\u2586\u2587\u2587\u2587\u2587\u2587\u2587\u2588\u2588\u2588</td></tr><tr><td>lr</td><td>\u2588\u2588\u2588\u2588\u2588\u2588\u2588\u2587\u2587\u2587\u2587\u2587\u2586\u2586\u2586\u2586\u2585\u2585\u2585\u2585\u2584\u2584\u2584\u2584\u2583\u2583\u2583\u2583\u2582\u2582\u2582\u2582\u2582\u2581\u2581\u2581\u2581\u2581\u2581</td></tr><tr><td>train/loss</td><td>\u2588\u2587\u2586\u2585\u2584\u2584\u2584\u2584\u2583\u2583\u2583\u2583\u2583\u2583\u2582\u2582\u2582\u2582\u2582\u2582\u2582\u2582\u2582\u2582\u2581\u2581\u2581\u2581\u2581\u2581\u2581\u2581\u2581\u2581\u2581\u2581\u2581\u2581\u2581</td></tr><tr><td>val/loss</td><td>\u2588\u2587\u2586\u2585\u2584\u2584\u2584\u2584\u2583\u2583\u2583\u2583\u2583\u2583\u2582\u2582\u2582\u2582\u2582\u2582\u2582\u2582\u2582\u2582\u2581\u2581\u2581\u2581\u2581\u2581\u2581\u2581\u2581\u2581\u2581\u2581\u2581\u2581\u2581</td></tr></table><br/></div><div class=\"wandb-col\"><h3>Run summary:</h3><br/><table class=\"wandb\"><tr><td>epoch</td><td>3900</td></tr><tr><td>lr</td><td>5e-05</td></tr><tr><td>train/loss</td><td>2.56834</td></tr><tr><td>val/loss</td><td>2.58416</td></tr></table><br/></div></div>"
            ],
            "text/plain": [
              "<IPython.core.display.HTML object>"
            ]
          },
          "metadata": {},
          "output_type": "display_data"
        },
        {
          "data": {
            "text/html": [
              " View run <strong style=\"color:#cdcd00\">nanoGPT</strong> at: <a href='https://wandb.ai-8-massachusetts-institute-of-technology/nanogpt-tinystories/runs/hlvxtchx' target=\"_blank\">https://wandb.ai-8-massachusetts-institute-of-technology/nanogpt-tinystories/runs/hlvxtchx</a><br> View project at: <a href='https://wandb.ai-8-massachusetts-institute-of-technology/nanogpt-tinystories' target=\"_blank\">https://wandb.ai-8-massachusetts-institute-of-technology/nanogpt-tinystories</a><br>Synced 5 W&B file(s), 0 media file(s), 0 artifact file(s) and 0 other file(s)"
            ],
            "text/plain": [
              "<IPython.core.display.HTML object>"
            ]
          },
          "metadata": {},
          "output_type": "display_data"
        },
        {
          "data": {
            "text/html": [
              "Find logs at: <code>./wandb/run-20250504_130522-hlvxtchx/logs</code>"
            ],
            "text/plain": [
              "<IPython.core.display.HTML object>"
            ]
          },
          "metadata": {},
          "output_type": "display_data"
        }
      ],
      "source": [
        "best_val_loss = float('inf')\n",
        "best_model_params_path = \"best_model_params.pt\"\n",
        "train_loss_list, validation_loss_list = [], []\n",
        "\n",
        "for epoch in tqdm(range(max_iters)):\n",
        "    if epoch%eval_iters == 0 and epoch != 0:\n",
        "        losses = estimate_loss(nanoGPT)\n",
        "        print(f\"Epoch {epoch}: train loss {losses['train']:.4f}, val loss {losses['val']:.4f}\")\n",
        "        print(f\"The current learning rate: {optimizer.param_groups[0]['lr']:.4f}\")\n",
        "        train_loss_list += [losses['train']]\n",
        "        validation_loss_list += [losses['val']]\n",
        "\n",
        "        wandb.log({\n",
        "                \"epoch\": epoch,\n",
        "                \"train/loss\": losses['train'],\n",
        "                \"val/loss\": losses['val'],\n",
        "                \"lr\": optimizer.param_groups[0]['lr']\n",
        "            })\n",
        "\n",
        "        if losses['val'] < best_val_loss:\n",
        "            best_val_loss = losses['val']\n",
        "            torch.save(nanoGPT.state_dict(), best_model_params_path)\n",
        "\n",
        "    X,y = get_batch(\"train\")\n",
        "\n",
        "    with ctx:\n",
        "        logits, loss = nanoGPT(X, y)\n",
        "        loss = loss / gradient_accumulation_steps # scale the loss to account for gradient accumulation\n",
        "        scaler.scale(loss).backward()\n",
        "\n",
        "    if ((epoch + 1) % gradient_accumulation_steps == 0) or (epoch + 1 == max_iters):\n",
        "        torch.nn.utils.clip_grad_norm_(nanoGPT.parameters(), 1)\n",
        "        scaler.step(optimizer)\n",
        "        scaler.update()\n",
        "        optimizer.zero_grad(set_to_none=True)\n",
        "    scheduler.step()\n",
        "\n",
        "\n",
        "wandb.finish()"
      ]
    },
    {
      "cell_type": "code",
      "execution_count": 13,
      "metadata": {
        "colab": {
          "base_uri": "https://localhost:8080/",
          "height": 449
        },
        "id": "ab-waPo5du1A",
        "outputId": "e874afd4-5513-4755-a3ba-57a8f0240a4d",
        "trusted": true
      },
      "outputs": [
        {
          "data": {
            "image/png": "[encoded data removed]",
            "text/plain": [
              "<Figure size 640x480 with 1 Axes>"
            ]
          },
          "metadata": {},
          "output_type": "display_data"
        }
      ],
      "source": [
        "import matplotlib.pyplot as plt\n",
        "train_loss_list_converted = [i.cpu().detach() for i in train_loss_list]\n",
        "validation_loss_list_converted = [i.cpu().detach() for i in validation_loss_list]\n",
        "plt.plot(train_loss_list_converted, 'g', validation_loss_list_converted, 'r')\n",
        "plt.xlabel(\"Steps - Every 100 epochs\")\n",
        "plt.ylabel(\"Loss\")\n",
        "plt.show()"
      ]
    },
    {
      "cell_type": "markdown",
      "metadata": {
        "id": "CF0bV7e9du1A"
      },
      "source": [
        "# Inference"
      ]
    },
    {
      "cell_type": "code",
      "execution_count": 14,
      "metadata": {
        "colab": {
          "base_uri": "https://localhost:8080/"
        },
        "execution": {
          "iopub.execute_input": "2024-06-20T15:45:44.322237Z",
          "iopub.status.busy": "2024-06-20T15:45:44.321316Z",
          "iopub.status.idle": "2024-06-20T15:45:46.887084Z",
          "shell.execute_reply": "2024-06-20T15:45:46.886126Z",
          "shell.execute_reply.started": "2024-06-20T15:45:44.322203Z"
        },
        "id": "E4bmoHgYdu1A",
        "outputId": "73643afe-6b23-4011-802f-132a12eeef21",
        "trusted": true
      },
      "outputs": [
        {
          "name": "stdout",
          "output_type": "stream",
          "text": [
            "number of parameters: 33.51M\n"
          ]
        },
        {
          "data": {
            "text/plain": [
              "<All keys matched successfully>"
            ]
          },
          "execution_count": 14,
          "metadata": {},
          "output_type": "execute_result"
        }
      ],
      "source": [
        "#Load the model\n",
        "nanoGPT = GPT.GPT(config)\n",
        "device =  \"cuda\" if torch.cuda.is_available() else \"cpu\"\n",
        "best_model_params_path = \"best_model_params.pt\"\n",
        "nanoGPT.load_state_dict(torch.load(best_model_params_path, map_location=torch.device(device))) # load best model states\n"
      ]
    },
    {
      "cell_type": "code",
      "execution_count": 15,
      "metadata": {
        "colab": {
          "base_uri": "https://localhost:8080/"
        },
        "execution": {
          "iopub.execute_input": "2024-06-20T15:44:36.64937Z",
          "iopub.status.busy": "2024-06-20T15:44:36.64896Z",
          "iopub.status.idle": "2024-06-20T15:45:14.425576Z",
          "shell.execute_reply": "2024-06-20T15:45:14.424712Z",
          "shell.execute_reply.started": "2024-06-20T15:44:36.649341Z"
        },
        "id": "QBN6P6v0du1A",
        "outputId": "baf018c3-5440-4a68-9022-daf530c0e496",
        "trusted": true
      },
      "outputs": [
        {
          "name": "stdout",
          "output_type": "stream",
          "text": [
            "There was a young child! She was wearing an strange phone! She had never seen all about the flowers before. \n",
            "\n",
            "John was surprised! \"What does I see today?\" Sally asked. Suddenly, she saw it was a beautiful star. It was bigger and fake. It had a vanish! \n",
            "\n",
            "John and Jane went inside and shouted. Little Jane's eyes looked like spotted it. Sammy jumped up and smiled. \n",
            "\n",
            "Jackmy's mum had been joining that the bully was much lonely! It gave Rover its happiness. Lisa was so relieved. She then asked Jane if he had come and go home now.\n",
            "\n",
            "Jack decided to come over and explore the project. He followed deeper and he finished, jumping. Peter quickly rain every branch. \n",
            "\n",
            "He filling the grass to the forest, quiet breeze from behind Little Jane was close to the ground. Jane smiled back where he was on. Then, a young bitggie: \" halfway... difficulties\" the happiness means the dancing\n"
          ]
        }
      ],
      "source": [
        "sentence = \"There was a\"\n",
        "context = (torch.tensor(enc.encode_ordinary(sentence)).unsqueeze(dim = 0))\n",
        "y = nanoGPT.generate(context, 200)\n",
        "print(enc.decode(y.squeeze().tolist()))"
      ]
    }
  ],
  "metadata": {
    "accelerator": "GPU",
    "colab": {
      "gpuType": "T4",
      "provenance": []
    },
    "kaggle": {
      "accelerator": "gpu",
      "dataSources": [],
      "dockerImageVersionId": 30732,
      "isGpuEnabled": true,
      "isInternetEnabled": true,
      "language": "python",
      "sourceType": "notebook"
    },
    "kernelspec": {
      "display_name": "Python 3",
      "name": "python3"
    },
    "language_info": {
      "codemirror_mode": {
        "name": "ipython",
        "version": 3
      },
      "file_extension": ".py",
      "mimetype": "text/x-python",
      "name": "python",
      "nbconvert_exporter": "python",
      "pygments_lexer": "ipython3",
      "version": "3.10.13"
    }
  },
  "nbformat": 4,
  "nbformat_minor": 0
}
